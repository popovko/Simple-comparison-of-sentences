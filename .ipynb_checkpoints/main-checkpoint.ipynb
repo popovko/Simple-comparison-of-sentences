{
 "cells": [
  {
   "cell_type": "code",
   "execution_count": 137,
   "metadata": {},
   "outputs": [],
   "source": [
    "import re\n",
    "import numpy as np\n",
    "from scipy.spatial import distance"
   ]
  },
  {
   "cell_type": "code",
   "execution_count": 138,
   "metadata": {},
   "outputs": [],
   "source": [
    "def cosinDistance(a ,b):\n",
    "    return distance.cosine(a ,b)"
   ]
  },
  {
   "cell_type": "code",
   "execution_count": 106,
   "metadata": {},
   "outputs": [],
   "source": [
    "f = open('text.txt', 'r')"
   ]
  },
  {
   "cell_type": "markdown",
   "metadata": {},
   "source": [
    "## Separate each word of each line"
   ]
  },
  {
   "cell_type": "code",
   "execution_count": 107,
   "metadata": {},
   "outputs": [],
   "source": [
    "sentences = []\n",
    "for line in f:\n",
    "    sentences.append(re.sub(r\"[^a-z]\", \" \", line.lower().strip()).split())"
   ]
  },
  {
   "cell_type": "markdown",
   "metadata": {},
   "source": [
    "## Put a number for each word"
   ]
  },
  {
   "cell_type": "code",
   "execution_count": 108,
   "metadata": {},
   "outputs": [],
   "source": [
    "mapEveryWord = {}\n",
    "for sentence in sentences:\n",
    "    for word in sentence:\n",
    "        if ~(word in mapEveryWord):\n",
    "            mapEveryWord[word] = len(mapEveryWord)"
   ]
  },
  {
   "cell_type": "markdown",
   "metadata": {},
   "source": [
    "## Create matrix where Aij contains count  of occurrences of the j-th word in the i-th sentence"
   ]
  },
  {
   "cell_type": "code",
   "execution_count": 152,
   "metadata": {},
   "outputs": [],
   "source": [
    "countWords = np.zeros((len(sentences), len(mapEveryWord)))\n",
    "i = 0\n",
    "for sent in sentences:\n",
    "    for word in sent:\n",
    "        countWords[i][mapEveryWord.get(word)] +=1\n",
    "    i+=1"
   ]
  },
  {
   "cell_type": "markdown",
   "metadata": {},
   "source": [
    "## Get result (The 2 most similar to the first)"
   ]
  },
  {
   "cell_type": "code",
   "execution_count": 146,
   "metadata": {},
   "outputs": [
    {
     "data": {
      "text/plain": [
       "[[4, 0.602966666411628],\n",
       " [6, 0.6385968388378995],\n",
       " [21, 0.6779959069441812],\n",
       " [20, 0.708308324401526],\n",
       " [15, 0.711700011937421],\n",
       " [14, 0.7239737762630583],\n",
       " [2, 0.7387907406206643],\n",
       " [9, 0.75],\n",
       " [16, 0.765314140460457],\n",
       " [13, 0.7667152625920783],\n",
       " [17, 0.7727156774757526],\n",
       " [18, 0.7837750089530658],\n",
       " [10, 0.8079938557050723],\n",
       " [8, 0.8110177634953863],\n",
       " [19, 0.8330432257740635],\n",
       " [3, 0.85361498905772],\n",
       " [11, 0.8582633226215398],\n",
       " [1, 0.8663693790437879],\n",
       " [5, 0.8804771390665607],\n",
       " [12, 0.8804771390665607],\n",
       " [7, 0.9309934440657646]]"
      ]
     },
     "execution_count": 146,
     "metadata": {},
     "output_type": "execute_result"
    }
   ],
   "source": [
    "dists = []\n",
    "i = 1\n",
    "for v in countWords[1:]:\n",
    "    dists.append([i, cosinDistance(countWords[0], v)])\n",
    "    i+=1\n",
    "sortDists = sorted(dists, key = lambda x: x[1])\n",
    "sortDists"
   ]
  },
  {
   "cell_type": "markdown",
   "metadata": {},
   "source": [
    "## Write result in file"
   ]
  },
  {
   "cell_type": "code",
   "execution_count": 151,
   "metadata": {},
   "outputs": [],
   "source": [
    "f = open('outForTest.txt', 'w')\n",
    "f.write(str(sortDists[0][0]) + ' ' + str(sortDists[1][0]))\n",
    "f.close()"
   ]
  },
  {
   "cell_type": "code",
   "execution_count": null,
   "metadata": {},
   "outputs": [],
   "source": []
  }
 ],
 "metadata": {
  "kernelspec": {
   "display_name": "Python 3",
   "language": "python",
   "name": "python3"
  },
  "language_info": {
   "codemirror_mode": {
    "name": "ipython",
    "version": 3
   },
   "file_extension": ".py",
   "mimetype": "text/x-python",
   "name": "python",
   "nbconvert_exporter": "python",
   "pygments_lexer": "ipython3",
   "version": "3.7.3"
  }
 },
 "nbformat": 4,
 "nbformat_minor": 2
}
